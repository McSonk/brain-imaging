{
 "cells": [
  {
   "cell_type": "code",
   "execution_count": 37,
   "metadata": {},
   "outputs": [],
   "source": [
    "import pandas as pd\n",
    "from pathlib import Path"
   ]
  },
  {
   "cell_type": "code",
   "execution_count": 38,
   "metadata": {},
   "outputs": [],
   "source": [
    "BASE_DIR = '../../data/rawdata/'"
   ]
  },
  {
   "cell_type": "code",
   "execution_count": null,
   "metadata": {},
   "outputs": [],
   "source": [
    "def read_bh(file):\n",
    "    '''Auxiliary function to read the data from the behavioural file\n",
    "    in the specified format and with meaningful column names.'''\n",
    "    df = pd.read_csv(file, header=None,\n",
    "        names=['o', 'ab', 'show_times', 'stim', 'PER', 'big_small', 'nl', 'onset', 'opt', 'delay']).drop(\n",
    "        columns=['o', 'PER']\n",
    "    )\n",
    "    df['opt'] = df['opt'].astype('Int64')\n",
    "\n",
    "    return df"
   ]
  },
  {
   "cell_type": "code",
   "execution_count": 43,
   "metadata": {},
   "outputs": [],
   "source": [
    "# Get all subjects' directories\n",
    "base_path = Path(BASE_DIR)\n",
    "subjects = sorted([d for d in base_path.iterdir() if d.is_dir()])\n",
    "data = {}\n",
    "\n",
    "# Load all behaviour files\n",
    "for subject in subjects:\n",
    "    # Behaviour files are CSVs in the beh directory\n",
    "    beh_files = sorted(subject.glob('beh/*.csv'))\n",
    "    csvs = {}\n",
    "    # Each subject should have 2 behaviour files\n",
    "    if len(beh_files) != 2:\n",
    "        print(f'Error: {subject.name} does not have 2 behaviour files')\n",
    "        continue\n",
    "    # Load the CSVs with pandas.read_csv\n",
    "    csvs['rep1'] = read_bh(beh_files[0])\n",
    "    csvs['rep2'] = read_bh(beh_files[1])\n",
    "    data[subject.name] = csvs"
   ]
  },
  {
   "cell_type": "code",
   "execution_count": 40,
   "metadata": {},
   "outputs": [
    {
     "name": "stdout",
     "output_type": "stream",
     "text": [
      "dict_keys(['o01', 'o02', 'o03', 'o04', 'o05', 'o06', 'o07', 'o08', 'o09', 'o10', 'o11', 'o12', 'o13', 'o14', 'o15', 'o16', 'o17', 'o18', 'y01', 'y02', 'y03', 'y04', 'y05', 'y06', 'y07', 'y08', 'y09', 'y10', 'y11', 'y12', 'y13', 'y14', 'y15', 'y16', 'y17', 'y18', 'y19'])\n"
     ]
    }
   ],
   "source": [
    "print(data.keys())"
   ]
  },
  {
   "cell_type": "code",
   "execution_count": 44,
   "metadata": {},
   "outputs": [
    {
     "data": {
      "text/html": [
       "<div>\n",
       "<style scoped>\n",
       "    .dataframe tbody tr th:only-of-type {\n",
       "        vertical-align: middle;\n",
       "    }\n",
       "\n",
       "    .dataframe tbody tr th {\n",
       "        vertical-align: top;\n",
       "    }\n",
       "\n",
       "    .dataframe thead th {\n",
       "        text-align: right;\n",
       "    }\n",
       "</style>\n",
       "<table border=\"1\" class=\"dataframe\">\n",
       "  <thead>\n",
       "    <tr style=\"text-align: right;\">\n",
       "      <th></th>\n",
       "      <th>ab</th>\n",
       "      <th>show_times</th>\n",
       "      <th>stim</th>\n",
       "      <th>big_small</th>\n",
       "      <th>nl</th>\n",
       "      <th>onset</th>\n",
       "      <th>opt</th>\n",
       "      <th>delay</th>\n",
       "    </tr>\n",
       "  </thead>\n",
       "  <tbody>\n",
       "    <tr>\n",
       "      <th>0</th>\n",
       "      <td>A</td>\n",
       "      <td>3</td>\n",
       "      <td>stim/faint.bmp</td>\n",
       "      <td>S</td>\n",
       "      <td>NL</td>\n",
       "      <td>29988</td>\n",
       "      <td>4</td>\n",
       "      <td>807</td>\n",
       "    </tr>\n",
       "    <tr>\n",
       "      <th>1</th>\n",
       "      <td>A</td>\n",
       "      <td>3</td>\n",
       "      <td>stim/toilett.bmp</td>\n",
       "      <td>B</td>\n",
       "      <td>NL</td>\n",
       "      <td>32988</td>\n",
       "      <td>3</td>\n",
       "      <td>636</td>\n",
       "    </tr>\n",
       "    <tr>\n",
       "      <th>2</th>\n",
       "      <td>D</td>\n",
       "      <td>1</td>\n",
       "      <td>stim/flashlight.bmp</td>\n",
       "      <td>S</td>\n",
       "      <td>NL</td>\n",
       "      <td>35988</td>\n",
       "      <td>4</td>\n",
       "      <td>667</td>\n",
       "    </tr>\n",
       "    <tr>\n",
       "      <th>3</th>\n",
       "      <td>A</td>\n",
       "      <td>3</td>\n",
       "      <td>stim/broccoli.bmp</td>\n",
       "      <td>S</td>\n",
       "      <td>L</td>\n",
       "      <td>38988</td>\n",
       "      <td>4</td>\n",
       "      <td>550</td>\n",
       "    </tr>\n",
       "    <tr>\n",
       "      <th>4</th>\n",
       "      <td>A</td>\n",
       "      <td>3</td>\n",
       "      <td>stim/car.bmp</td>\n",
       "      <td>B</td>\n",
       "      <td>NL</td>\n",
       "      <td>41988</td>\n",
       "      <td>3</td>\n",
       "      <td>585</td>\n",
       "    </tr>\n",
       "  </tbody>\n",
       "</table>\n",
       "</div>"
      ],
      "text/plain": [
       "  ab  show_times                 stim big_small  nl  onset  opt  delay\n",
       "0  A           3       stim/faint.bmp         S  NL  29988    4    807\n",
       "1  A           3     stim/toilett.bmp         B  NL  32988    3    636\n",
       "2  D           1  stim/flashlight.bmp         S  NL  35988    4    667\n",
       "3  A           3    stim/broccoli.bmp         S   L  38988    4    550\n",
       "4  A           3         stim/car.bmp         B  NL  41988    3    585"
      ]
     },
     "execution_count": 44,
     "metadata": {},
     "output_type": "execute_result"
    }
   ],
   "source": [
    "data['y01']['rep1'].head()"
   ]
  },
  {
   "cell_type": "code",
   "execution_count": 45,
   "metadata": {},
   "outputs": [
    {
     "data": {
      "text/html": [
       "<div>\n",
       "<style scoped>\n",
       "    .dataframe tbody tr th:only-of-type {\n",
       "        vertical-align: middle;\n",
       "    }\n",
       "\n",
       "    .dataframe tbody tr th {\n",
       "        vertical-align: top;\n",
       "    }\n",
       "\n",
       "    .dataframe thead th {\n",
       "        text-align: right;\n",
       "    }\n",
       "</style>\n",
       "<table border=\"1\" class=\"dataframe\">\n",
       "  <thead>\n",
       "    <tr style=\"text-align: right;\">\n",
       "      <th></th>\n",
       "      <th>ab</th>\n",
       "      <th>show_times</th>\n",
       "      <th>stim</th>\n",
       "      <th>big_small</th>\n",
       "      <th>nl</th>\n",
       "      <th>onset</th>\n",
       "      <th>opt</th>\n",
       "      <th>delay</th>\n",
       "    </tr>\n",
       "  </thead>\n",
       "  <tbody>\n",
       "    <tr>\n",
       "      <th>0</th>\n",
       "      <td>D</td>\n",
       "      <td>1</td>\n",
       "      <td>stim/peach.bmp</td>\n",
       "      <td>S</td>\n",
       "      <td>L</td>\n",
       "      <td>29972</td>\n",
       "      <td>4</td>\n",
       "      <td>601</td>\n",
       "    </tr>\n",
       "    <tr>\n",
       "      <th>1</th>\n",
       "      <td>A</td>\n",
       "      <td>3</td>\n",
       "      <td>stim/baby.bmp</td>\n",
       "      <td>B</td>\n",
       "      <td>L</td>\n",
       "      <td>36972</td>\n",
       "      <td>3</td>\n",
       "      <td>613</td>\n",
       "    </tr>\n",
       "    <tr>\n",
       "      <th>2</th>\n",
       "      <td>A</td>\n",
       "      <td>3</td>\n",
       "      <td>stim/orange.bmp</td>\n",
       "      <td>S</td>\n",
       "      <td>L</td>\n",
       "      <td>39972</td>\n",
       "      <td>4</td>\n",
       "      <td>598</td>\n",
       "    </tr>\n",
       "    <tr>\n",
       "      <th>3</th>\n",
       "      <td>A</td>\n",
       "      <td>3</td>\n",
       "      <td>stim/orange.bmp</td>\n",
       "      <td>S</td>\n",
       "      <td>L</td>\n",
       "      <td>42973</td>\n",
       "      <td>4</td>\n",
       "      <td>458</td>\n",
       "    </tr>\n",
       "    <tr>\n",
       "      <th>4</th>\n",
       "      <td>A</td>\n",
       "      <td>3</td>\n",
       "      <td>stim/cruiseship.bmp</td>\n",
       "      <td>B</td>\n",
       "      <td>NL</td>\n",
       "      <td>45972</td>\n",
       "      <td>3</td>\n",
       "      <td>578</td>\n",
       "    </tr>\n",
       "  </tbody>\n",
       "</table>\n",
       "</div>"
      ],
      "text/plain": [
       "  ab  show_times                 stim big_small  nl  onset  opt  delay\n",
       "0  D           1       stim/peach.bmp         S   L  29972    4    601\n",
       "1  A           3        stim/baby.bmp         B   L  36972    3    613\n",
       "2  A           3      stim/orange.bmp         S   L  39972    4    598\n",
       "3  A           3      stim/orange.bmp         S   L  42973    4    458\n",
       "4  A           3  stim/cruiseship.bmp         B  NL  45972    3    578"
      ]
     },
     "execution_count": 45,
     "metadata": {},
     "output_type": "execute_result"
    }
   ],
   "source": [
    "data['y01']['rep2'].head()"
   ]
  }
 ],
 "metadata": {
  "kernelspec": {
   "display_name": "pandas",
   "language": "python",
   "name": "python3"
  },
  "language_info": {
   "codemirror_mode": {
    "name": "ipython",
    "version": 3
   },
   "file_extension": ".py",
   "mimetype": "text/x-python",
   "name": "python",
   "nbconvert_exporter": "python",
   "pygments_lexer": "ipython3",
   "version": "3.10.12"
  }
 },
 "nbformat": 4,
 "nbformat_minor": 2
}
